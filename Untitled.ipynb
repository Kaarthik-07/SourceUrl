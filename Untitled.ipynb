{
 "cells": [
  {
   "cell_type": "code",
   "execution_count": 3,
   "id": "c7e7854f-0fa8-43e3-bc3d-7989040755b9",
   "metadata": {},
   "outputs": [
    {
     "name": "stdout",
     "output_type": "stream",
     "text": [
      "URL have been loaded\n",
      "Docs have been parssed\n",
      "Finshed embeddings\n",
      "embedding have been stored\n",
      "llm have been intialized\n",
      "query have been parsed and searching the most relevant embedding chunk\n",
      "React is a free and open-source front-end JavaScript library that aims to make building user interfaces based on components more \"seamless\". It was founded by Jordan Walke, a software engineer at Meta (formerly Facebook).\n"
     ]
    }
   ],
   "source": [
    "import os\n",
    "import time\n",
    "import pickle\n",
    "\n",
    "from langchain_ollama import OllamaLLM\n",
    "from langchain.chains import RetrievalQA\n",
    "from langchain.document_loaders import UnstructuredURLLoader\n",
    "from langchain.text_splitter import RecursiveCharacterTextSplitter\n",
    "from langchain.vectorstores import FAISS\n",
    "from langchain_huggingface import HuggingFaceEmbeddings\n",
    "\n",
    "urls = [\n",
    "    \"https://en.wikipedia.org/wiki/React_(software)\",\n",
    "    \"https://en.wikipedia.org/wiki/India\"\n",
    "]\n",
    "\n",
    "loader = UnstructuredURLLoader(urls = urls)\n",
    "print(\"URL have been loaded\")\n",
    "docs = loader.load()\n",
    "print(\"Docs have been parssed\")\n",
    "splitter = RecursiveCharacterTextSplitter(chunk_size = 2000,chunk_overlap = 20)\n",
    "splits = splitter.split_documents(docs)\n",
    "\n",
    "embed_model = HuggingFaceEmbeddings(model = \"all-MiniLM-L6-v2\")\n",
    "print(\"Finshed embeddings\")\n",
    "\n",
    "vect_store = FAISS.from_documents(splits,embed_model)\n",
    "print(\"embedding have been stored\")\n",
    "\n",
    "llm = OllamaLLM(model =\"llama3.2\")\n",
    "print(\"llm have been intialized\")\n",
    "\n",
    "qretriver = vect_store.as_retriever()\n",
    "qa_chain = RetrievalQA.from_chain_type(llm=llm,retriever =qretriver )\n",
    "\n",
    "query = \"What is react and who founded it?\"\n",
    "print(\"query have been parsed and searching the most relevant embedding chunk\")\n",
    "res = qa_chain.invoke({\"query\":query})\n",
    "print(res['result'])"
   ]
  }
 ],
 "metadata": {
  "kernelspec": {
   "display_name": "Python 3 (ipykernel)",
   "language": "python",
   "name": "python3"
  },
  "language_info": {
   "codemirror_mode": {
    "name": "ipython",
    "version": 3
   },
   "file_extension": ".py",
   "mimetype": "text/x-python",
   "name": "python",
   "nbconvert_exporter": "python",
   "pygments_lexer": "ipython3",
   "version": "3.12.3"
  }
 },
 "nbformat": 4,
 "nbformat_minor": 5
}
